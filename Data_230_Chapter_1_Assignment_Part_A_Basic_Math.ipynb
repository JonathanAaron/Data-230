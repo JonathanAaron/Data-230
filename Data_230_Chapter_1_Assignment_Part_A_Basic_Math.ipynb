{
  "nbformat": 4,
  "nbformat_minor": 0,
  "metadata": {
    "colab": {
      "provenance": []
    },
    "kernelspec": {
      "name": "python3",
      "display_name": "Python 3"
    },
    "language_info": {
      "name": "python"
    }
  },
  "cells": [
    {
      "cell_type": "markdown",
      "source": [
        "You will be applying what you learned in Chapter 1 in this assignment. Enter the python code needed to solve each problem below. You will need this notebook to submit your answers in the classroom."
      ],
      "metadata": {
        "id": "EWCUKbaqg8yM"
      }
    },
    {
      "cell_type": "markdown",
      "source": [
        "# Question 1 Order of Operations\n",
        "\n"
      ],
      "metadata": {
        "id": "RiULWuTaIg_N"
      }
    },
    {
      "cell_type": "markdown",
      "source": [
        "Evaluate the following expression using the correct Order of Operations: 3 + 5 * (7 - 2)^2.\n",
        "\n",
        "*hint-look at the book and previous quizzes for help performing an arithmitic calculation in python.Enter the calculation where you see the question mark (?) below*"
      ],
      "metadata": {
        "id": "aXa4wV5DIlO-"
      }
    },
    {
      "cell_type": "code",
      "source": [
        "Question1 = ?\n",
        "print(Question1)"
      ],
      "metadata": {
        "id": "a7LYq6NikC0j"
      },
      "execution_count": null,
      "outputs": []
    },
    {
      "cell_type": "markdown",
      "source": [
        "# Question 2 Variables\n"
      ],
      "metadata": {
        "id": "QfP_As_8IqRd"
      }
    },
    {
      "cell_type": "markdown",
      "source": [
        "Solve for x: 2x + 7 = 15\n",
        "\n",
        "*Under each comment below, write the next steps in solving the equation. Think of this as showing your work if you were writing on a piece of paper*"
      ],
      "metadata": {
        "id": "YLskMee5Ipwa"
      }
    },
    {
      "cell_type": "code",
      "source": [
        "# Subtract 7 from both sides of the equation\n",
        "\n",
        "\n",
        "# Simplify the right side of the equation\n",
        "\n",
        "\n",
        "# Divide both sides by 2\n",
        "\n",
        "\n",
        "# Simplify the right side of the equation\n",
        "\n",
        "\n",
        "# Print the value of x\n",
        "print(x)"
      ],
      "metadata": {
        "id": "Yt7MJdfwlaK6"
      },
      "execution_count": null,
      "outputs": []
    },
    {
      "cell_type": "markdown",
      "source": [
        "# Question 3 Functions"
      ],
      "metadata": {
        "id": "Alhe_RxaLeKk"
      }
    },
    {
      "cell_type": "markdown",
      "source": [
        "Evaluate the function f(x) = 2x^2 - 3x + 1 at x = 4\n",
        "\n",
        "*hint: refer to Example 1-6 in Chapter 1. Enter the function below where you see the question mark(?). Next, enter the value for x where you see a question mark (?)*"
      ],
      "metadata": {
        "id": "lHvvTfhaLlzZ"
      }
    },
    {
      "cell_type": "code",
      "source": [
        "# Define the function f(x)\n",
        "def f(x):\n",
        "    return ?\n",
        "\n",
        "# Evaluate the function when x is 4.\n",
        "Question4 = f(?)\n",
        "\n",
        "# Print the result\n",
        "print(Question4)"
      ],
      "metadata": {
        "id": "uwIMzZVJLuBl"
      },
      "execution_count": null,
      "outputs": []
    },
    {
      "cell_type": "markdown",
      "source": [
        "# Question 4 Summation"
      ],
      "metadata": {
        "id": "-aeA9vGWMUhJ"
      }
    },
    {
      "cell_type": "markdown",
      "source": [
        "Evaluate the following sum: 1 + 3 + 5 + ... + 99\n",
        "\n",
        "*Hint: Follow the example 1-10 provided in Chapter 1 of the book.\n",
        "Note we are asking for odd numbers between 1 and 99. The range function's last parameter sets the increments. Enter the code in below where you see the question mark (?)*"
      ],
      "metadata": {
        "id": "jkdmfD9pMdU-"
      }
    },
    {
      "cell_type": "code",
      "source": [
        "Summation=(?)\n",
        "print(Summation)"
      ],
      "metadata": {
        "id": "8joVZqPhqmFw"
      },
      "execution_count": null,
      "outputs": []
    },
    {
      "cell_type": "markdown",
      "source": [
        "# Question 5 Logarithms"
      ],
      "metadata": {
        "id": "v-9thGCAOFGZ"
      }
    },
    {
      "cell_type": "markdown",
      "source": [
        "Simplify the following expression: log(base 2) 8 + log(base 2) 4\n",
        "\n",
        "*Hint: Look at Table 1-3 on how to use operators with logarithms. We have setup the code structure below using the log2 method in the Math module. Enter the values in the code below where you see the question mark (?)*"
      ],
      "metadata": {
        "id": "vRNpi1zeOLrq"
      }
    },
    {
      "cell_type": "code",
      "source": [
        "import math\n",
        "\n",
        "Question5 = math.log2(?)\n",
        "\n",
        "# Print the result\n",
        "print(Question5)"
      ],
      "metadata": {
        "id": "CkCO8YQ_OODZ"
      },
      "execution_count": null,
      "outputs": []
    },
    {
      "cell_type": "markdown",
      "source": [
        "# Question 6 Limits"
      ],
      "metadata": {
        "id": "-fzqlrfsOXrz"
      }
    },
    {
      "cell_type": "markdown",
      "source": [
        "Find the limit of the function f(x) = (x^2 - 4)/(x - 2) as x approaches 2\n",
        "\n",
        "*Hint: Follow the example 1-16 provided in Chapter 1 of the book. Enter the function in the code below where you see the question mark (?) AND in the parameters to find the limit.*\n",
        "\n"
      ],
      "metadata": {
        "id": "gr4LzQdPOcTf"
      }
    },
    {
      "cell_type": "code",
      "source": [
        "\n",
        "from sympy import *\n",
        "\n",
        "x = symbols('x')\n",
        "f = ?\n",
        "Question6 = limit(f,x,?)\n",
        "\n",
        "print(Question6)"
      ],
      "metadata": {
        "id": "qY2cI-9ft7tU"
      },
      "execution_count": null,
      "outputs": []
    }
  ]
}